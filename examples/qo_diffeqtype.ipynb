{
 "cells": [
  {
   "cell_type": "code",
   "execution_count": 1,
   "metadata": {},
   "outputs": [],
   "source": [
    "using OrdinaryDiffEq\n",
    "using LinearAlgebra\n",
    "using Pkg\n",
    "using QuantumOpticsBase"
   ]
  },
  {
   "cell_type": "code",
   "execution_count": 9,
   "metadata": {},
   "outputs": [
    {
     "name": "stderr",
     "output_type": "stream",
     "text": [
      "\u001b[32m\u001b[1m   Resolving\u001b[22m\u001b[39m package versions...\n"
     ]
    },
    {
     "name": "stderr",
     "output_type": "stream",
     "text": [
      "\u001b[32m\u001b[1m    Updating\u001b[22m\u001b[39m `~/.julia/environments/v1.9/Project.toml`\n"
     ]
    },
    {
     "name": "stderr",
     "output_type": "stream",
     "text": [
      "  \u001b[90m[4f57444f] \u001b[39m\u001b[92m+ QuantumOpticsBase v0.4.18\u001b[39m\n",
      "\u001b[32m\u001b[1m    Updating\u001b[22m\u001b[39m `~/.julia/environments/v1.9/Manifest.toml`\n"
     ]
    },
    {
     "name": "stderr",
     "output_type": "stream",
     "text": [
      "  \u001b[90m[4f57444f] \u001b[39m\u001b[93m~ QuantumOpticsBase v0.4.18 `https://github.com/Krastanov/QuantumOpticsBase.jl.git#master` ⇒ v0.4.18\u001b[39m\n"
     ]
    }
   ],
   "source": [
    "Pkg.add(\"QuantumOpticsBase\")"
   ]
  },
  {
   "cell_type": "code",
   "execution_count": 10,
   "metadata": {},
   "outputs": [
    {
     "name": "stderr",
     "output_type": "stream",
     "text": [
      "\u001b[32m\u001b[1m    Updating\u001b[22m\u001b[39m git-repo `https://github.com/Krastanov/QuantumOpticsBase.jl.git`\n"
     ]
    },
    {
     "name": "stderr",
     "output_type": "stream",
     "text": [
      "\u001b[32m\u001b[1m   Resolving\u001b[22m\u001b[39m package versions...\n"
     ]
    },
    {
     "name": "stderr",
     "output_type": "stream",
     "text": [
      "\u001b[32m\u001b[1m    Updating\u001b[22m\u001b[39m `~/.julia/environments/v1.9/Project.toml`\n"
     ]
    },
    {
     "name": "stderr",
     "output_type": "stream",
     "text": [
      "  \u001b[90m[4f57444f] \u001b[39m\u001b[92m+ QuantumOpticsBase v0.4.18 `https://github.com/Krastanov/QuantumOpticsBase.jl.git#master`\u001b[39m\n",
      "\u001b[32m\u001b[1m  No Changes\u001b[22m\u001b[39m to `~/.julia/environments/v1.9/Manifest.toml`\n"
     ]
    }
   ],
   "source": [
    "Pkg.add(url=\"https://github.com/Krastanov/QuantumOpticsBase.jl.git\")"
   ]
  },
  {
   "cell_type": "code",
   "execution_count": 2,
   "metadata": {},
   "outputs": [],
   "source": [
    "b_fock = FockBasis(50);\n",
    "op = dm(coherentstate(b_fock, 1.0+0.0im));"
   ]
  },
  {
   "cell_type": "code",
   "execution_count": 3,
   "metadata": {},
   "outputs": [
    {
     "data": {
      "text/plain": [
       "Operator(dim=4x4)\n",
       "  basis: Fock(cutoff=3)\n",
       " 0.688142+0.309946im  0.392646+0.612445im  …  0.989957+0.931753im\n",
       " 0.633537+0.227422im  0.877231+0.472045im     0.786938+0.331903im\n",
       " 0.597537+0.189748im  0.121084+0.500887im     0.245598+0.346756im\n",
       " 0.796544+0.70605im   0.404363+0.232892im     0.339475+0.822821im"
      ]
     },
     "metadata": {},
     "output_type": "display_data"
    }
   ],
   "source": [
    "bf = FockBasis(3)\n",
    "op3 = randoperator(bf)"
   ]
  },
  {
   "cell_type": "code",
   "execution_count": 6,
   "metadata": {},
   "outputs": [],
   "source": [
    "@inline Base.axes(A::DataOperator) = tuple(findall(!isnothing, A.data))\n",
    "Base.getindex(op::DataOperator, inds::Vararg{Int,2}) = op.data[inds...]\n",
    "Base.setindex!(op::DataOperator, val, inds::Vararg{Int,2}) = op.data[inds...] = val\n",
    "\n",
    "function Broadcast.BroadcastStyle(op::T, a::Broadcast.DefaultArrayStyle{0}) where {Bl<:Basis, Br<:Basis, T<:QuantumOpticsBase.OperatorStyle{Bl,Br}}\n",
    "    return T()\n",
    "end"
   ]
  },
  {
   "cell_type": "code",
   "execution_count": 4,
   "metadata": {},
   "outputs": [],
   "source": [
    "#Base.:+(x::DataOperator,y::my_type) = my_type(x.data+y.data,x.name)\n",
    "Base.:*(x::Number,y::DataOperator{BL, BR}) where {BL, BR} = Operator{BL,BR}(y.basis_l, y.basis_r, x*y.data)\n",
    "Base.:/(x::DataOperator{BL, BR},y::Number) where {BL, BR} = Operator{BL,BR}(y.basis_l, y.basis_r, x.data / y)"
   ]
  },
  {
   "cell_type": "code",
   "execution_count": 10,
   "metadata": {},
   "outputs": [],
   "source": [
    "Base.Broadcast.extrude(x::DataOperator) = x"
   ]
  },
  {
   "cell_type": "code",
   "execution_count": 11,
   "metadata": {},
   "outputs": [
    {
     "ename": "MethodError",
     "evalue": "MethodError: no method matching find_dType(::Base.Broadcast.Broadcasted{OperatorStyle{FockBasis{Int64}, FockBasis{Int64}}, Tuple{Vector{CartesianIndex{2}}}, typeof(+), Tuple{Operator{FockBasis{Int64}, FockBasis{Int64}, Matrix{ComplexF64}}, ComplexF64}})\n\nClosest candidates are:\n  find_dType(!Matched::DataOperator, !Matched::Any)\n   @ Main ~/Documents/EPFL/PhD/Projects/CS-TDVP/TDVP/Optimized_CS_TDVP/examples/qo_diffeqtype.ipynb:32\n",
     "output_type": "error",
     "traceback": [
      "MethodError: no method matching find_dType(::Base.Broadcast.Broadcasted{OperatorStyle{FockBasis{Int64}, FockBasis{Int64}}, Tuple{Vector{CartesianIndex{2}}}, typeof(+), Tuple{Operator{FockBasis{Int64}, FockBasis{Int64}, Matrix{ComplexF64}}, ComplexF64}})\n",
      "\n",
      "Closest candidates are:\n",
      "  find_dType(!Matched::DataOperator, !Matched::Any)\n",
      "   @ Main ~/Documents/EPFL/PhD/Projects/CS-TDVP/TDVP/Optimized_CS_TDVP/examples/qo_diffeqtype.ipynb:32\n",
      "\n",
      "\n",
      "Stacktrace:\n",
      " [1] copy\n",
      "   @ ~/Documents/EPFL/PhD/Projects/CS-TDVP/TDVP/Optimized_CS_TDVP/examples/qo_diffeqtype.ipynb:23 [inlined]\n",
      " [2] materialize(bc::Base.Broadcast.Broadcasted{OperatorStyle{FockBasis{Int64}, FockBasis{Int64}}, Nothing, typeof(+), Tuple{Operator{FockBasis{Int64}, FockBasis{Int64}, Matrix{ComplexF64}}, ComplexF64}})\n",
      "   @ Base.Broadcast ./broadcast.jl:873\n",
      " [3] top-level scope\n",
      "   @ ~/Documents/EPFL/PhD/Projects/CS-TDVP/TDVP/Optimized_CS_TDVP/examples/qo_diffeqtype.ipynb:1"
     ]
    }
   ],
   "source": [
    "op .+ (2.0+0.0im)"
   ]
  },
  {
   "cell_type": "code",
   "execution_count": 3,
   "metadata": {},
   "outputs": [
    {
     "data": {
      "text/plain": [
       "rhs_test2_oop (generic function with 1 method)"
      ]
     },
     "metadata": {},
     "output_type": "display_data"
    }
   ],
   "source": [
    "function rhs_test2_oop(du, u, p, t)\n",
    "    du .= u\n",
    "end"
   ]
  },
  {
   "cell_type": "code",
   "execution_count": 57,
   "metadata": {},
   "outputs": [],
   "source": [
    "using Lazy\n",
    "using RecursiveArrayTools\n",
    "\n",
    "@forward DataOperator.data (Base.length, Base.iterate, Base.getindex, Base.setindex!, Base.size)\n",
    "\n",
    "Base.similar(u::Operator{BL, BR}, type::Type{L}=eltype(u)) where {BL, BR, L} =  Operator{BL,BR}(u.basis_l, u.basis_r, similar(u.data, type))\n",
    "RecursiveArrayTools.recursivefill!(op::Operator{BL, BR}, a) where {BL, BR} =  recursivefill!(op.data, a)\n",
    "\n",
    "function Base.similar(bc::Base.Broadcast.Broadcasted{QuantumOpticsBase.OperatorStyle{BL, BR}}, ::Type{ElType}) where {BL, BR, ElType}\n",
    "    bl,br = QuantumOptics.find_basis(bcf.args)\n",
    "    bc_ = Broadcasted_restrict_f(bcf.f, bcf.args, axes(bcf))\n",
    "    Operator{BL, BR}(bc_.basis_l, bc_.basis_r, similar(Matrix{ElType}, axes(bc)))\n",
    "end\n",
    "\n",
    "QuantumOpticsBase.OperatorStyle(::Val{BL},::Val{BR}) where {BL, BR} = QuantumOpticsBase.OperatorStyle{BL, BR}()\n",
    "QuantumOpticsBase.OperatorStyle{M}(::Val{BL},::Val{BR}) where {M, BL, BR} = QuantumOpticsBase.OperatorStyle{BL, BR}()"
   ]
  },
  {
   "cell_type": "code",
   "execution_count": 6,
   "metadata": {},
   "outputs": [],
   "source": [
    "\"\"\"From QuantumOpticsBase, pull request https://github.com/qojulia/QuantumOpticsBase.jl/pull/16\"\"\"\n",
    "# Broadcasting\n",
    "Base.size(A::DataOperator) = size(A.data)\n",
    "Base.size(A::DataOperator, d::Int) = size(A.data, d)\n",
    "@inline Base.axes(A::DataOperator) = tuple(findall(!isnothing, A.data))\n",
    "Base.broadcastable(A::DataOperator) = A\n",
    "\n",
    "# Custom broadcasting styles\n",
    "abstract type DataOperatorStyle{BL<:Basis,BR<:Basis} <: Broadcast.BroadcastStyle end\n",
    "struct OperatorStyle{BL<:Basis,BR<:Basis} <: DataOperatorStyle{BL,BR} end\n",
    "\n",
    "# Style precedence rules\n",
    "Broadcast.BroadcastStyle(::Type{<:Operator{BL,BR}}) where {BL<:Basis,BR<:Basis} = OperatorStyle{BL,BR}()\n",
    "Broadcast.BroadcastStyle(::OperatorStyle{B1,B2}, ::OperatorStyle{B3,B4}) where {B1<:Basis,B2<:Basis,B3<:Basis,B4<:Basis} = throw(IncompatibleBases())\n",
    "\n",
    "# Broadcast with scalars (of use in ODE solvers checking for tolerances, e.g. `.* reltol .+ abstol`)\n",
    "Broadcast.BroadcastStyle(::T, ::Broadcast.DefaultArrayStyle{0}) where {Bl<:Basis, Br<:Basis, T<:OperatorStyle{Bl,Br}} = T()\n",
    "\n",
    "# Out-of-place broadcasting\n",
    "@inline function Base.copy(bc::Broadcast.Broadcasted{Style,Axes,F,Args}) where {BL<:Basis,BR<:Basis,Style<:OperatorStyle{BL,BR},Axes,F,Args<:Tuple}\n",
    "    bcf = Broadcast.flatten(bc)\n",
    "    bl,br = find_basis(bcf.args...)\n",
    "    T = find_dType(bcf)\n",
    "    data = zeros(T, length(bl), length(br))\n",
    "    @inbounds @simd for I in eachindex(bcf)\n",
    "        data[I] = bcf[I]\n",
    "    end\n",
    "    return Operator{BL,BR}(bl, br, data)\n",
    "end\n",
    "\n",
    "find_basis(a::DataOperator, rest) = (a.basis_l, a.basis_r)\n",
    "find_dType(a::DataOperator, rest) = eltype(a)\n",
    "Base.getindex(a::DataOperator, idx) = getindex(a.data, idx)\n",
    "Base.iterate(a::DataOperator) = iterate(a.data)\n",
    "Base.iterate(a::DataOperator, idx) = iterate(a.data, idx)\n",
    "\n",
    "# In-place broadcasting\n",
    "@inline function Base.copyto!(dest::DataOperator{BL,BR}, bc::Broadcast.Broadcasted{Style,Axes,F,Args}) where {BL<:Basis,BR<:Basis,Style<:DataOperatorStyle{BL,BR},Axes,F,Args}\n",
    "    axes(dest) == axes(bc) || Base.Broadcast.throwdm(axes(dest), axes(bc))\n",
    "    bc′ = Base.Broadcast.preprocess(dest, bc)\n",
    "    dest′ = dest.data\n",
    "    @inbounds @simd for I in eachindex(bc′)\n",
    "        dest′[I] = bc′[I]\n",
    "    end\n",
    "    return dest\n",
    "end\n",
    "@inline Base.copyto!(A::DataOperator{BL,BR},B::DataOperator{BL,BR}) where {BL<:Basis,BR<:Basis} = (copyto!(A.data,B.data); A)\n",
    "@inline Base.copyto!(dest::DataOperator{BL,BR}, bc::Broadcast.Broadcasted{Style,Axes,F,Args}) where {BL<:Basis,BR<:Basis,Style<:DataOperatorStyle,Axes,F,Args} =\n",
    "    throw(IncompatibleBases())\n",
    "\n",
    "# A few more standard interfaces: These do not necessarily make sense for a StateVector, but enable transparent use of DifferentialEquations.jl\n",
    "Base.eltype(::Type{Operator{Bl,Br,A}}) where {Bl,Br,N,A<:AbstractMatrix{N}} = N # ODE init\n",
    "Base.any(f::Function, ρ::Operator; kwargs...) = any(f, ρ.data; kwargs...) # ODE nan checks\n",
    "Base.all(f::Function, ρ::Operator; kwargs...) = all(f, ρ.data; kwargs...)\n",
    "Broadcast.similar(ρ::Operator, t) = typeof(ρ)(ρ.basis_l, ρ.basis_r, copy(ρ.data))\n",
    "using RecursiveArrayTools\n",
    "RecursiveArrayTools.recursivecopy!(dst::Operator{Bl,Br,A},src::Operator{Bl,Br,A}) where {Bl,Br,A} = copy!(dst.data,src.data) # ODE in-place equations"
   ]
  },
  {
   "cell_type": "code",
   "execution_count": 5,
   "metadata": {},
   "outputs": [
    {
     "ename": "MethodError",
     "evalue": "MethodError: no method matching similar(::Operator{FockBasis{Int64}, FockBasis{Int64}, Matrix{ComplexF64}})\n\nClosest candidates are:\n  similar(::Operator, !Matched::Any)\n   @ Main ~/Documents/EPFL/PhD/Projects/CS-TDVP/TDVP/Optimized_CS_TDVP/examples/qo_diffeqtype.ipynb:55\n  similar(!Matched::Union{Adjoint{T, var\"#s970\"}, Transpose{T, var\"#s970\"}} where {T, var\"#s970\"<:(AbstractVector)})\n   @ LinearAlgebra ~/Programs/julia-1.9.0/share/julia/stdlib/v1.9/LinearAlgebra/src/adjtrans.jl:329\n  similar(!Matched::Union{Adjoint{T, var\"#s970\"}, Transpose{T, var\"#s970\"}} where {T, var\"#s970\"<:(AbstractVector)}, !Matched::Type{T}) where T\n   @ LinearAlgebra ~/Programs/julia-1.9.0/share/julia/stdlib/v1.9/LinearAlgebra/src/adjtrans.jl:330\n  ...\n",
     "output_type": "error",
     "traceback": [
      "MethodError: no method matching similar(::Operator{FockBasis{Int64}, FockBasis{Int64}, Matrix{ComplexF64}})\n",
      "\n",
      "Closest candidates are:\n",
      "  similar(::Operator, !Matched::Any)\n",
      "   @ Main ~/Documents/EPFL/PhD/Projects/CS-TDVP/TDVP/Optimized_CS_TDVP/examples/qo_diffeqtype.ipynb:55\n",
      "  similar(!Matched::Union{Adjoint{T, var\"#s970\"}, Transpose{T, var\"#s970\"}} where {T, var\"#s970\"<:(AbstractVector)})\n",
      "   @ LinearAlgebra ~/Programs/julia-1.9.0/share/julia/stdlib/v1.9/LinearAlgebra/src/adjtrans.jl:329\n",
      "  similar(!Matched::Union{Adjoint{T, var\"#s970\"}, Transpose{T, var\"#s970\"}} where {T, var\"#s970\"<:(AbstractVector)}, !Matched::Type{T}) where T\n",
      "   @ LinearAlgebra ~/Programs/julia-1.9.0/share/julia/stdlib/v1.9/LinearAlgebra/src/adjtrans.jl:330\n",
      "  ...\n",
      "\n",
      "\n",
      "Stacktrace:\n",
      " [1] top-level scope\n",
      "   @ ~/Documents/EPFL/PhD/Projects/CS-TDVP/TDVP/Optimized_CS_TDVP/examples/qo_diffeqtype.ipynb:1"
     ]
    }
   ],
   "source": [
    "similar(op);\n",
    "recursivefill!(op, 1.0);"
   ]
  },
  {
   "cell_type": "code",
   "execution_count": 61,
   "metadata": {},
   "outputs": [
    {
     "data": {
      "text/plain": [
       "OperatorStyle{FockBasis{Int64}, FockBasis{Int64}}()"
      ]
     },
     "metadata": {},
     "output_type": "display_data"
    }
   ],
   "source": [
    "#Check the broadcast style of op\n",
    "Broadcast.BroadcastStyle(typeof(op))"
   ]
  },
  {
   "cell_type": "code",
   "execution_count": 25,
   "metadata": {},
   "outputs": [
    {
     "ename": "MethodError",
     "evalue": "MethodError: no method matching find_dType(::Base.Broadcast.Broadcasted{OperatorStyle{FockBasis{Int64}, FockBasis{Int64}}, Tuple{Vector{CartesianIndex{2}}}, typeof(*), Tuple{Operator{FockBasis{Int64}, FockBasis{Int64}, Matrix{ComplexF64}}, Int64}})\n\nClosest candidates are:\n  find_dType(!Matched::DataOperator, !Matched::Any)\n   @ Main ~/Documents/EPFL/PhD/Projects/CS-TDVP/TDVP/Optimized_CS_TDVP/examples/qo_diffeqtype.ipynb:32\n",
     "output_type": "error",
     "traceback": [
      "MethodError: no method matching find_dType(::Base.Broadcast.Broadcasted{OperatorStyle{FockBasis{Int64}, FockBasis{Int64}}, Tuple{Vector{CartesianIndex{2}}}, typeof(*), Tuple{Operator{FockBasis{Int64}, FockBasis{Int64}, Matrix{ComplexF64}}, Int64}})\n",
      "\n",
      "Closest candidates are:\n",
      "  find_dType(!Matched::DataOperator, !Matched::Any)\n",
      "   @ Main ~/Documents/EPFL/PhD/Projects/CS-TDVP/TDVP/Optimized_CS_TDVP/examples/qo_diffeqtype.ipynb:32\n",
      "\n",
      "\n",
      "Stacktrace:\n",
      " [1] copy\n",
      "   @ ~/Documents/EPFL/PhD/Projects/CS-TDVP/TDVP/Optimized_CS_TDVP/examples/qo_diffeqtype.ipynb:23 [inlined]\n",
      " [2] materialize(bc::Base.Broadcast.Broadcasted{OperatorStyle{FockBasis{Int64}, FockBasis{Int64}}, Nothing, typeof(*), Tuple{Operator{FockBasis{Int64}, FockBasis{Int64}, Matrix{ComplexF64}}, Int64}})\n",
      "   @ Base.Broadcast ./broadcast.jl:873\n",
      " [3] top-level scope\n",
      "   @ ~/Documents/EPFL/PhD/Projects/CS-TDVP/TDVP/Optimized_CS_TDVP/examples/qo_diffeqtype.ipynb:1"
     ]
    }
   ],
   "source": [
    "op .* 2"
   ]
  },
  {
   "cell_type": "code",
   "execution_count": 52,
   "metadata": {},
   "outputs": [
    {
     "ename": "ArgumentError",
     "evalue": "ArgumentError: Broadcasted{Unknown} wrappers do not have a style assigned",
     "output_type": "error",
     "traceback": [
      "ArgumentError: Broadcasted{Unknown} wrappers do not have a style assigned\n",
      "\n",
      "Stacktrace:\n",
      "  [1] Base.Broadcast.BroadcastStyle(#unused#::Type{Base.Broadcast.Broadcasted{Base.Broadcast.Unknown, Nothing, typeof(DiffEqBase.ODE_DEFAULT_NORM), Tuple{Operator{FockBasis{Int64}, FockBasis{Int64}, Matrix{ComplexF64}}, Float64}}})\n",
      "    @ Base.Broadcast ./broadcast.jl:231\n",
      "  [2] combine_styles(c::Base.Broadcast.Broadcasted{Base.Broadcast.Unknown, Nothing, typeof(DiffEqBase.ODE_DEFAULT_NORM), Tuple{Operator{FockBasis{Int64}, FockBasis{Int64}, Matrix{ComplexF64}}, Float64}})\n",
      "    @ Base.Broadcast ./broadcast.jl:448\n",
      "  [3] combine_styles\n",
      "    @ ./broadcast.jl:450 [inlined]\n",
      "  [4] broadcasted\n",
      "    @ ./broadcast.jl:1317 [inlined]\n",
      "  [5] ode_determine_initdt\n",
      "    @ ~/.julia/packages/OrdinaryDiffEq/wz2EI/src/initdt.jl:26 [inlined]\n",
      "  [6] auto_dt_reset!\n",
      "    @ ~/.julia/packages/OrdinaryDiffEq/wz2EI/src/integrators/integrator_interface.jl:449 [inlined]\n",
      "  [7] handle_dt!(integrator::OrdinaryDiffEq.ODEIntegrator{RK4{typeof(OrdinaryDiffEq.trivial_limiter!), typeof(OrdinaryDiffEq.trivial_limiter!), Static.False}, true, Operator{FockBasis{Int64}, FockBasis{Int64}, Matrix{ComplexF64}}, Nothing, Float64, SciMLBase.NullParameters, Float64, Float64, Float64, Float64, Vector{Operator{FockBasis{Int64}, FockBasis{Int64}, Matrix{ComplexF64}}}, ODESolution{ComplexF64, 3, Vector{Operator{FockBasis{Int64}, FockBasis{Int64}, Matrix{ComplexF64}}}, Nothing, Nothing, Vector{Float64}, Vector{Vector{Operator{FockBasis{Int64}, FockBasis{Int64}, Matrix{ComplexF64}}}}, ODEProblem{Operator{FockBasis{Int64}, FockBasis{Int64}, Matrix{ComplexF64}}, Tuple{Float64, Float64}, true, SciMLBase.NullParameters, ODEFunction{true, SciMLBase.AutoSpecialize, typeof(rhs_test2_oop), UniformScaling{Bool}, Nothing, Nothing, Nothing, Nothing, Nothing, Nothing, Nothing, Nothing, Nothing, Nothing, Nothing, Nothing, Nothing, Nothing, typeof(SciMLBase.DEFAULT_OBSERVED), Nothing, Nothing}, Base.Pairs{Symbol, Union{}, Tuple{}, NamedTuple{(), Tuple{}}}, SciMLBase.StandardODEProblem}, RK4{typeof(OrdinaryDiffEq.trivial_limiter!), typeof(OrdinaryDiffEq.trivial_limiter!), Static.False}, OrdinaryDiffEq.InterpolationData{ODEFunction{true, SciMLBase.AutoSpecialize, typeof(rhs_test2_oop), UniformScaling{Bool}, Nothing, Nothing, Nothing, Nothing, Nothing, Nothing, Nothing, Nothing, Nothing, Nothing, Nothing, Nothing, Nothing, Nothing, typeof(SciMLBase.DEFAULT_OBSERVED), Nothing, Nothing}, Vector{Operator{FockBasis{Int64}, FockBasis{Int64}, Matrix{ComplexF64}}}, Vector{Float64}, Vector{Vector{Operator{FockBasis{Int64}, FockBasis{Int64}, Matrix{ComplexF64}}}}, OrdinaryDiffEq.RK4Cache{Operator{FockBasis{Int64}, FockBasis{Int64}, Matrix{ComplexF64}}, Operator{FockBasis{Int64}, FockBasis{Int64}, Matrix{ComplexF64}}, Operator{FockBasis{Int64}, FockBasis{Int64}, Matrix{ComplexF64}}, typeof(OrdinaryDiffEq.trivial_limiter!), typeof(OrdinaryDiffEq.trivial_limiter!), Static.False}}, SciMLBase.DEStats, Nothing}, ODEFunction{true, SciMLBase.AutoSpecialize, typeof(rhs_test2_oop), UniformScaling{Bool}, Nothing, Nothing, Nothing, Nothing, Nothing, Nothing, Nothing, Nothing, Nothing, Nothing, Nothing, Nothing, Nothing, Nothing, typeof(SciMLBase.DEFAULT_OBSERVED), Nothing, Nothing}, OrdinaryDiffEq.RK4Cache{Operator{FockBasis{Int64}, FockBasis{Int64}, Matrix{ComplexF64}}, Operator{FockBasis{Int64}, FockBasis{Int64}, Matrix{ComplexF64}}, Operator{FockBasis{Int64}, FockBasis{Int64}, Matrix{ComplexF64}}, typeof(OrdinaryDiffEq.trivial_limiter!), typeof(OrdinaryDiffEq.trivial_limiter!), Static.False}, OrdinaryDiffEq.DEOptions{Float64, Float64, Float64, Float64, PIController{Rational{Int64}}, typeof(DiffEqBase.ODE_DEFAULT_NORM), typeof(opnorm), Nothing, CallbackSet{Tuple{}, Tuple{}}, typeof(DiffEqBase.ODE_DEFAULT_ISOUTOFDOMAIN), typeof(DiffEqBase.ODE_DEFAULT_PROG_MESSAGE), typeof(DiffEqBase.ODE_DEFAULT_UNSTABLE_CHECK), DataStructures.BinaryHeap{Float64, DataStructures.FasterForward}, DataStructures.BinaryHeap{Float64, DataStructures.FasterForward}, Nothing, Nothing, Int64, Tuple{}, Tuple{}, Tuple{}}, Operator{FockBasis{Int64}, FockBasis{Int64}, Matrix{ComplexF64}}, ComplexF64, Nothing, OrdinaryDiffEq.DefaultInit})\n",
      "    @ OrdinaryDiffEq ~/.julia/packages/OrdinaryDiffEq/wz2EI/src/solve.jl:565\n",
      "  [8] __init(prob::ODEProblem{Operator{FockBasis{Int64}, FockBasis{Int64}, Matrix{ComplexF64}}, Tuple{Float64, Float64}, true, SciMLBase.NullParameters, ODEFunction{true, SciMLBase.AutoSpecialize, typeof(rhs_test2_oop), UniformScaling{Bool}, Nothing, Nothing, Nothing, Nothing, Nothing, Nothing, Nothing, Nothing, Nothing, Nothing, Nothing, Nothing, Nothing, Nothing, typeof(SciMLBase.DEFAULT_OBSERVED), Nothing, Nothing}, Base.Pairs{Symbol, Union{}, Tuple{}, NamedTuple{(), Tuple{}}}, SciMLBase.StandardODEProblem}, alg::RK4{typeof(OrdinaryDiffEq.trivial_limiter!), typeof(OrdinaryDiffEq.trivial_limiter!), Static.False}, timeseries_init::Tuple{}, ts_init::Tuple{}, ks_init::Tuple{}, recompile::Type{Val{true}}; saveat::Tuple{}, tstops::Tuple{}, d_discontinuities::Tuple{}, save_idxs::Nothing, save_everystep::Bool, save_on::Bool, save_start::Bool, save_end::Nothing, callback::Nothing, dense::Bool, calck::Bool, dt::Float64, dtmin::Nothing, dtmax::Float64, force_dtmin::Bool, adaptive::Bool, gamma::Rational{Int64}, abstol::Nothing, reltol::Nothing, qmin::Rational{Int64}, qmax::Int64, qsteady_min::Int64, qsteady_max::Int64, beta1::Nothing, beta2::Nothing, qoldinit::Rational{Int64}, controller::Nothing, fullnormalize::Bool, failfactor::Int64, maxiters::Int64, internalnorm::typeof(DiffEqBase.ODE_DEFAULT_NORM), internalopnorm::typeof(opnorm), isoutofdomain::typeof(DiffEqBase.ODE_DEFAULT_ISOUTOFDOMAIN), unstable_check::typeof(DiffEqBase.ODE_DEFAULT_UNSTABLE_CHECK), verbose::Bool, timeseries_errors::Bool, dense_errors::Bool, advance_to_tstop::Bool, stop_at_next_tstop::Bool, initialize_save::Bool, progress::Bool, progress_steps::Int64, progress_name::String, progress_message::typeof(DiffEqBase.ODE_DEFAULT_PROG_MESSAGE), progress_id::Symbol, userdata::Nothing, allow_extrapolation::Bool, initialize_integrator::Bool, alias_u0::Bool, alias_du0::Bool, initializealg::OrdinaryDiffEq.DefaultInit, kwargs::Base.Pairs{Symbol, Union{}, Tuple{}, NamedTuple{(), Tuple{}}})\n",
      "    @ OrdinaryDiffEq ~/.julia/packages/OrdinaryDiffEq/wz2EI/src/solve.jl:527\n",
      "  [9] __init (repeats 5 times)\n",
      "    @ ~/.julia/packages/OrdinaryDiffEq/wz2EI/src/solve.jl:10 [inlined]\n",
      " [10] #__solve#746\n",
      "    @ ~/.julia/packages/OrdinaryDiffEq/wz2EI/src/solve.jl:5 [inlined]\n",
      " [11] __solve\n",
      "    @ ~/.julia/packages/OrdinaryDiffEq/wz2EI/src/solve.jl:1 [inlined]\n",
      " [12] #solve_call#34\n",
      "    @ ~/.julia/packages/DiffEqBase/NYLhl/src/solve.jl:557 [inlined]\n",
      " [13] solve_call\n",
      "    @ ~/.julia/packages/DiffEqBase/NYLhl/src/solve.jl:523 [inlined]\n",
      " [14] solve_up(prob::ODEProblem{Operator{FockBasis{Int64}, FockBasis{Int64}, Matrix{ComplexF64}}, Tuple{Float64, Float64}, true, SciMLBase.NullParameters, ODEFunction{true, SciMLBase.AutoSpecialize, typeof(rhs_test2_oop), UniformScaling{Bool}, Nothing, Nothing, Nothing, Nothing, Nothing, Nothing, Nothing, Nothing, Nothing, Nothing, Nothing, Nothing, Nothing, Nothing, typeof(SciMLBase.DEFAULT_OBSERVED), Nothing, Nothing}, Base.Pairs{Symbol, Union{}, Tuple{}, NamedTuple{(), Tuple{}}}, SciMLBase.StandardODEProblem}, sensealg::Nothing, u0::Operator{FockBasis{Int64}, FockBasis{Int64}, Matrix{ComplexF64}}, p::SciMLBase.NullParameters, args::RK4{typeof(OrdinaryDiffEq.trivial_limiter!), typeof(OrdinaryDiffEq.trivial_limiter!), Static.False}; kwargs::Base.Pairs{Symbol, Union{}, Tuple{}, NamedTuple{(), Tuple{}}})\n",
      "    @ DiffEqBase ~/.julia/packages/DiffEqBase/NYLhl/src/solve.jl:1006\n",
      " [15] solve_up\n",
      "    @ ~/.julia/packages/DiffEqBase/NYLhl/src/solve.jl:992 [inlined]\n",
      " [16] #solve#40\n",
      "    @ ~/.julia/packages/DiffEqBase/NYLhl/src/solve.jl:929 [inlined]\n",
      " [17] solve(prob::ODEProblem{Operator{FockBasis{Int64}, FockBasis{Int64}, Matrix{ComplexF64}}, Tuple{Float64, Float64}, true, SciMLBase.NullParameters, ODEFunction{true, SciMLBase.AutoSpecialize, typeof(rhs_test2_oop), UniformScaling{Bool}, Nothing, Nothing, Nothing, Nothing, Nothing, Nothing, Nothing, Nothing, Nothing, Nothing, Nothing, Nothing, Nothing, Nothing, typeof(SciMLBase.DEFAULT_OBSERVED), Nothing, Nothing}, Base.Pairs{Symbol, Union{}, Tuple{}, NamedTuple{(), Tuple{}}}, SciMLBase.StandardODEProblem}, args::RK4{typeof(OrdinaryDiffEq.trivial_limiter!), typeof(OrdinaryDiffEq.trivial_limiter!), Static.False})\n",
      "    @ DiffEqBase ~/.julia/packages/DiffEqBase/NYLhl/src/solve.jl:919\n",
      " [18] top-level scope\n",
      "    @ ~/Documents/EPFL/PhD/Projects/CS-TDVP/TDVP/Optimized_CS_TDVP/examples/qo_diffeqtype.ipynb:2"
     ]
    }
   ],
   "source": [
    "prob = ODEProblem(rhs_test2_oop, op, (0.0, 1.0))\n",
    "sol   = solve(prob, RK4())"
   ]
  },
  {
   "cell_type": "code",
   "execution_count": null,
   "metadata": {},
   "outputs": [],
   "source": []
  }
 ],
 "metadata": {
  "kernelspec": {
   "display_name": "Julia 1.9.0",
   "language": "julia",
   "name": "julia-1.9"
  },
  "language_info": {
   "file_extension": ".jl",
   "mimetype": "application/julia",
   "name": "julia",
   "version": "1.9.0"
  }
 },
 "nbformat": 4,
 "nbformat_minor": 2
}
